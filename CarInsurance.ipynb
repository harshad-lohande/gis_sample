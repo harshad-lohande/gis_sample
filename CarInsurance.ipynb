{
 "cells": [
  {
   "cell_type": "code",
   "execution_count": 1,
   "metadata": {},
   "outputs": [],
   "source": [
    "# Load libraries\n",
    "import pandas as pd\n",
    "import numpy as np\n",
    "import matplotlib.pyplot as plt\n",
    "import seaborn as sns\n",
    "%matplotlib inline\n",
    "\n",
    "#ignore warnings\n",
    "import warnings; warnings.simplefilter('ignore')"
   ]
  },
  {
   "cell_type": "code",
   "execution_count": 2,
   "metadata": {},
   "outputs": [],
   "source": [
    "# set print options for pandas\n",
    "# pandas and numpy display options\n",
    "pd.options.mode.chained_assignment = None\n",
    "pd.options.display.max_rows=200\n",
    "pd.options.display.max_columns = 50\n",
    "pd.options.display.max_colwidth = 20"
   ]
  },
  {
   "cell_type": "code",
   "execution_count": 3,
   "metadata": {},
   "outputs": [],
   "source": [
    "# Load dataset\n",
    "data = pd.read_csv('carInsurance_train.csv', encoding='utf-8')"
   ]
  },
  {
   "cell_type": "markdown",
   "metadata": {},
   "source": [
    "#### Take a quick peek at the data. There is no substitute for looking at the raw data. Looking at the raw data can reveal insights that are not poosible by any other way. "
   ]
  },
  {
   "cell_type": "code",
   "execution_count": 4,
   "metadata": {},
   "outputs": [
    {
     "data": {
      "text/html": [
       "<div>\n",
       "<style scoped>\n",
       "    .dataframe tbody tr th:only-of-type {\n",
       "        vertical-align: middle;\n",
       "    }\n",
       "\n",
       "    .dataframe tbody tr th {\n",
       "        vertical-align: top;\n",
       "    }\n",
       "\n",
       "    .dataframe thead th {\n",
       "        text-align: right;\n",
       "    }\n",
       "</style>\n",
       "<table border=\"1\" class=\"dataframe\">\n",
       "  <thead>\n",
       "    <tr style=\"text-align: right;\">\n",
       "      <th></th>\n",
       "      <th>Id</th>\n",
       "      <th>Age</th>\n",
       "      <th>Job</th>\n",
       "      <th>Marital</th>\n",
       "      <th>Education</th>\n",
       "      <th>Default</th>\n",
       "      <th>Balance</th>\n",
       "      <th>HHInsurance</th>\n",
       "      <th>CarLoan</th>\n",
       "      <th>Communication</th>\n",
       "      <th>LastContactDay</th>\n",
       "      <th>LastContactMonth</th>\n",
       "      <th>NoOfContacts</th>\n",
       "      <th>DaysPassed</th>\n",
       "      <th>PrevAttempts</th>\n",
       "      <th>Outcome</th>\n",
       "      <th>CallStart</th>\n",
       "      <th>CallEnd</th>\n",
       "      <th>CarInsurance</th>\n",
       "    </tr>\n",
       "  </thead>\n",
       "  <tbody>\n",
       "    <tr>\n",
       "      <th>0</th>\n",
       "      <td>1</td>\n",
       "      <td>32</td>\n",
       "      <td>management</td>\n",
       "      <td>single</td>\n",
       "      <td>tertiary</td>\n",
       "      <td>0</td>\n",
       "      <td>1218</td>\n",
       "      <td>1</td>\n",
       "      <td>0</td>\n",
       "      <td>telephone</td>\n",
       "      <td>28</td>\n",
       "      <td>jan</td>\n",
       "      <td>2</td>\n",
       "      <td>-1</td>\n",
       "      <td>0</td>\n",
       "      <td>NaN</td>\n",
       "      <td>13:45:20</td>\n",
       "      <td>13:46:30</td>\n",
       "      <td>0</td>\n",
       "    </tr>\n",
       "    <tr>\n",
       "      <th>1</th>\n",
       "      <td>2</td>\n",
       "      <td>32</td>\n",
       "      <td>blue-collar</td>\n",
       "      <td>married</td>\n",
       "      <td>primary</td>\n",
       "      <td>0</td>\n",
       "      <td>1156</td>\n",
       "      <td>1</td>\n",
       "      <td>0</td>\n",
       "      <td>NaN</td>\n",
       "      <td>26</td>\n",
       "      <td>may</td>\n",
       "      <td>5</td>\n",
       "      <td>-1</td>\n",
       "      <td>0</td>\n",
       "      <td>NaN</td>\n",
       "      <td>14:49:03</td>\n",
       "      <td>14:52:08</td>\n",
       "      <td>0</td>\n",
       "    </tr>\n",
       "    <tr>\n",
       "      <th>2</th>\n",
       "      <td>3</td>\n",
       "      <td>29</td>\n",
       "      <td>management</td>\n",
       "      <td>single</td>\n",
       "      <td>tertiary</td>\n",
       "      <td>0</td>\n",
       "      <td>637</td>\n",
       "      <td>1</td>\n",
       "      <td>0</td>\n",
       "      <td>cellular</td>\n",
       "      <td>3</td>\n",
       "      <td>jun</td>\n",
       "      <td>1</td>\n",
       "      <td>119</td>\n",
       "      <td>1</td>\n",
       "      <td>failure</td>\n",
       "      <td>16:30:24</td>\n",
       "      <td>16:36:04</td>\n",
       "      <td>1</td>\n",
       "    </tr>\n",
       "    <tr>\n",
       "      <th>3</th>\n",
       "      <td>4</td>\n",
       "      <td>25</td>\n",
       "      <td>student</td>\n",
       "      <td>single</td>\n",
       "      <td>primary</td>\n",
       "      <td>0</td>\n",
       "      <td>373</td>\n",
       "      <td>1</td>\n",
       "      <td>0</td>\n",
       "      <td>cellular</td>\n",
       "      <td>11</td>\n",
       "      <td>may</td>\n",
       "      <td>2</td>\n",
       "      <td>-1</td>\n",
       "      <td>0</td>\n",
       "      <td>NaN</td>\n",
       "      <td>12:06:43</td>\n",
       "      <td>12:20:22</td>\n",
       "      <td>1</td>\n",
       "    </tr>\n",
       "    <tr>\n",
       "      <th>4</th>\n",
       "      <td>5</td>\n",
       "      <td>30</td>\n",
       "      <td>management</td>\n",
       "      <td>married</td>\n",
       "      <td>tertiary</td>\n",
       "      <td>0</td>\n",
       "      <td>2694</td>\n",
       "      <td>0</td>\n",
       "      <td>0</td>\n",
       "      <td>cellular</td>\n",
       "      <td>3</td>\n",
       "      <td>jun</td>\n",
       "      <td>1</td>\n",
       "      <td>-1</td>\n",
       "      <td>0</td>\n",
       "      <td>NaN</td>\n",
       "      <td>14:35:44</td>\n",
       "      <td>14:38:56</td>\n",
       "      <td>0</td>\n",
       "    </tr>\n",
       "  </tbody>\n",
       "</table>\n",
       "</div>"
      ],
      "text/plain": [
       "   Id  Age          Job  Marital Education  Default  Balance  HHInsurance  \\\n",
       "0   1   32   management   single  tertiary        0     1218            1   \n",
       "1   2   32  blue-collar  married   primary        0     1156            1   \n",
       "2   3   29   management   single  tertiary        0      637            1   \n",
       "3   4   25      student   single   primary        0      373            1   \n",
       "4   5   30   management  married  tertiary        0     2694            0   \n",
       "\n",
       "   CarLoan Communication  LastContactDay LastContactMonth  NoOfContacts  \\\n",
       "0        0     telephone              28              jan             2   \n",
       "1        0           NaN              26              may             5   \n",
       "2        0      cellular               3              jun             1   \n",
       "3        0      cellular              11              may             2   \n",
       "4        0      cellular               3              jun             1   \n",
       "\n",
       "   DaysPassed  PrevAttempts  Outcome CallStart   CallEnd  CarInsurance  \n",
       "0          -1             0      NaN  13:45:20  13:46:30             0  \n",
       "1          -1             0      NaN  14:49:03  14:52:08             0  \n",
       "2         119             1  failure  16:30:24  16:36:04             1  \n",
       "3          -1             0      NaN  12:06:43  12:20:22             1  \n",
       "4          -1             0      NaN  14:35:44  14:38:56             0  "
      ]
     },
     "execution_count": 4,
     "metadata": {},
     "output_type": "execute_result"
    }
   ],
   "source": [
    "data.head()"
   ]
  },
  {
   "cell_type": "markdown",
   "metadata": {},
   "source": [
    "### Check if any columns have NaN values"
   ]
  },
  {
   "cell_type": "code",
   "execution_count": 69,
   "metadata": {},
   "outputs": [
    {
     "data": {
      "text/plain": [
       "Id                     0\n",
       "Age                    0\n",
       "Job                   19\n",
       "Marital                0\n",
       "Education            169\n",
       "Default                0\n",
       "Balance                0\n",
       "HHInsurance            0\n",
       "CarLoan                0\n",
       "Communication        902\n",
       "LastContactDay         0\n",
       "LastContactMonth       0\n",
       "NoOfContacts           0\n",
       "DaysPassed             0\n",
       "PrevAttempts           0\n",
       "Outcome             3042\n",
       "CallStart              0\n",
       "CallEnd                0\n",
       "CarInsurance           0\n",
       "dtype: int64"
      ]
     },
     "execution_count": 69,
     "metadata": {},
     "output_type": "execute_result"
    }
   ],
   "source": [
    "data.isnull().sum()"
   ]
  },
  {
   "cell_type": "code",
   "execution_count": 74,
   "metadata": {},
   "outputs": [
    {
     "data": {
      "text/plain": [
       "management       893\n",
       "blue-collar      759\n",
       "technician       660\n",
       "admin.           459\n",
       "services         330\n",
       "retired          249\n",
       "self-employed    140\n",
       "student          131\n",
       "unemployed       130\n",
       "entrepreneur     121\n",
       "housemaid        109\n",
       "Name: Job, dtype: int64"
      ]
     },
     "execution_count": 74,
     "metadata": {},
     "output_type": "execute_result"
    }
   ],
   "source": [
    "data['Job'].value_counts()"
   ]
  },
  {
   "cell_type": "markdown",
   "metadata": {},
   "source": [
    "### What is the type of each attribute?"
   ]
  },
  {
   "cell_type": "markdown",
   "metadata": {},
   "source": [
    "It is important to know data type of each attribute. Conversions may be required for representing string as floating point values or integers to represent categorical or ordinal values."
   ]
  },
  {
   "cell_type": "code",
   "execution_count": 5,
   "metadata": {},
   "outputs": [
    {
     "name": "stdout",
     "output_type": "stream",
     "text": [
      "Id                   int64\n",
      "Age                  int64\n",
      "Job                 object\n",
      "Marital             object\n",
      "Education           object\n",
      "Default              int64\n",
      "Balance              int64\n",
      "HHInsurance          int64\n",
      "CarLoan              int64\n",
      "Communication       object\n",
      "LastContactDay       int64\n",
      "LastContactMonth    object\n",
      "NoOfContacts         int64\n",
      "DaysPassed           int64\n",
      "PrevAttempts         int64\n",
      "Outcome             object\n",
      "CallStart           object\n",
      "CallEnd             object\n",
      "CarInsurance         int64\n",
      "dtype: object\n"
     ]
    }
   ],
   "source": [
    "print(data.dtypes)"
   ]
  },
  {
   "cell_type": "markdown",
   "metadata": {},
   "source": [
    "### Dimensions of data"
   ]
  },
  {
   "cell_type": "markdown",
   "metadata": {},
   "source": [
    "It is good to know dimensions of data, both in terms of rows and columns. Too many instances can make it slower for algorithm to train. Too few instances may not be sufficient for an algorithm to learn from data. Too many features may add noise or may result into highly dimensional data and cause curse of dimensionality."
   ]
  },
  {
   "cell_type": "code",
   "execution_count": 6,
   "metadata": {},
   "outputs": [
    {
     "name": "stdout",
     "output_type": "stream",
     "text": [
      "(4000, 19)\n"
     ]
    }
   ],
   "source": [
    "print(data.shape)"
   ]
  },
  {
   "cell_type": "code",
   "execution_count": 7,
   "metadata": {},
   "outputs": [
    {
     "data": {
      "text/html": [
       "<div>\n",
       "<style scoped>\n",
       "    .dataframe tbody tr th:only-of-type {\n",
       "        vertical-align: middle;\n",
       "    }\n",
       "\n",
       "    .dataframe tbody tr th {\n",
       "        vertical-align: top;\n",
       "    }\n",
       "\n",
       "    .dataframe thead th {\n",
       "        text-align: right;\n",
       "    }\n",
       "</style>\n",
       "<table border=\"1\" class=\"dataframe\">\n",
       "  <thead>\n",
       "    <tr style=\"text-align: right;\">\n",
       "      <th></th>\n",
       "      <th>Id</th>\n",
       "      <th>Age</th>\n",
       "      <th>Default</th>\n",
       "      <th>Balance</th>\n",
       "      <th>HHInsurance</th>\n",
       "      <th>CarLoan</th>\n",
       "      <th>LastContactDay</th>\n",
       "      <th>NoOfContacts</th>\n",
       "      <th>DaysPassed</th>\n",
       "      <th>PrevAttempts</th>\n",
       "      <th>CarInsurance</th>\n",
       "    </tr>\n",
       "  </thead>\n",
       "  <tbody>\n",
       "    <tr>\n",
       "      <th>count</th>\n",
       "      <td>4000.000000</td>\n",
       "      <td>4000.000000</td>\n",
       "      <td>4000.000000</td>\n",
       "      <td>4000.000000</td>\n",
       "      <td>4000.00000</td>\n",
       "      <td>4000.000000</td>\n",
       "      <td>4000.000000</td>\n",
       "      <td>4000.000000</td>\n",
       "      <td>4000.000000</td>\n",
       "      <td>4000.000000</td>\n",
       "      <td>4000.000000</td>\n",
       "    </tr>\n",
       "    <tr>\n",
       "      <th>mean</th>\n",
       "      <td>2000.500000</td>\n",
       "      <td>41.214750</td>\n",
       "      <td>0.014500</td>\n",
       "      <td>1532.937250</td>\n",
       "      <td>0.49275</td>\n",
       "      <td>0.133000</td>\n",
       "      <td>15.721250</td>\n",
       "      <td>2.607250</td>\n",
       "      <td>48.706500</td>\n",
       "      <td>0.717500</td>\n",
       "      <td>0.401000</td>\n",
       "    </tr>\n",
       "    <tr>\n",
       "      <th>std</th>\n",
       "      <td>1154.844867</td>\n",
       "      <td>11.550194</td>\n",
       "      <td>0.119555</td>\n",
       "      <td>3511.452489</td>\n",
       "      <td>0.50001</td>\n",
       "      <td>0.339617</td>\n",
       "      <td>8.425307</td>\n",
       "      <td>3.064204</td>\n",
       "      <td>106.685385</td>\n",
       "      <td>2.078647</td>\n",
       "      <td>0.490162</td>\n",
       "    </tr>\n",
       "    <tr>\n",
       "      <th>min</th>\n",
       "      <td>1.000000</td>\n",
       "      <td>18.000000</td>\n",
       "      <td>0.000000</td>\n",
       "      <td>-3058.000000</td>\n",
       "      <td>0.00000</td>\n",
       "      <td>0.000000</td>\n",
       "      <td>1.000000</td>\n",
       "      <td>1.000000</td>\n",
       "      <td>-1.000000</td>\n",
       "      <td>0.000000</td>\n",
       "      <td>0.000000</td>\n",
       "    </tr>\n",
       "    <tr>\n",
       "      <th>25%</th>\n",
       "      <td>1000.750000</td>\n",
       "      <td>32.000000</td>\n",
       "      <td>0.000000</td>\n",
       "      <td>111.000000</td>\n",
       "      <td>0.00000</td>\n",
       "      <td>0.000000</td>\n",
       "      <td>8.000000</td>\n",
       "      <td>1.000000</td>\n",
       "      <td>-1.000000</td>\n",
       "      <td>0.000000</td>\n",
       "      <td>0.000000</td>\n",
       "    </tr>\n",
       "    <tr>\n",
       "      <th>50%</th>\n",
       "      <td>2000.500000</td>\n",
       "      <td>39.000000</td>\n",
       "      <td>0.000000</td>\n",
       "      <td>551.500000</td>\n",
       "      <td>0.00000</td>\n",
       "      <td>0.000000</td>\n",
       "      <td>16.000000</td>\n",
       "      <td>2.000000</td>\n",
       "      <td>-1.000000</td>\n",
       "      <td>0.000000</td>\n",
       "      <td>0.000000</td>\n",
       "    </tr>\n",
       "    <tr>\n",
       "      <th>75%</th>\n",
       "      <td>3000.250000</td>\n",
       "      <td>49.000000</td>\n",
       "      <td>0.000000</td>\n",
       "      <td>1619.000000</td>\n",
       "      <td>1.00000</td>\n",
       "      <td>0.000000</td>\n",
       "      <td>22.000000</td>\n",
       "      <td>3.000000</td>\n",
       "      <td>-1.000000</td>\n",
       "      <td>0.000000</td>\n",
       "      <td>1.000000</td>\n",
       "    </tr>\n",
       "    <tr>\n",
       "      <th>max</th>\n",
       "      <td>4000.000000</td>\n",
       "      <td>95.000000</td>\n",
       "      <td>1.000000</td>\n",
       "      <td>98417.000000</td>\n",
       "      <td>1.00000</td>\n",
       "      <td>1.000000</td>\n",
       "      <td>31.000000</td>\n",
       "      <td>43.000000</td>\n",
       "      <td>854.000000</td>\n",
       "      <td>58.000000</td>\n",
       "      <td>1.000000</td>\n",
       "    </tr>\n",
       "  </tbody>\n",
       "</table>\n",
       "</div>"
      ],
      "text/plain": [
       "                Id          Age      Default       Balance  HHInsurance  \\\n",
       "count  4000.000000  4000.000000  4000.000000   4000.000000   4000.00000   \n",
       "mean   2000.500000    41.214750     0.014500   1532.937250      0.49275   \n",
       "std    1154.844867    11.550194     0.119555   3511.452489      0.50001   \n",
       "min       1.000000    18.000000     0.000000  -3058.000000      0.00000   \n",
       "25%    1000.750000    32.000000     0.000000    111.000000      0.00000   \n",
       "50%    2000.500000    39.000000     0.000000    551.500000      0.00000   \n",
       "75%    3000.250000    49.000000     0.000000   1619.000000      1.00000   \n",
       "max    4000.000000    95.000000     1.000000  98417.000000      1.00000   \n",
       "\n",
       "           CarLoan  LastContactDay  NoOfContacts   DaysPassed  PrevAttempts  \\\n",
       "count  4000.000000     4000.000000   4000.000000  4000.000000   4000.000000   \n",
       "mean      0.133000       15.721250      2.607250    48.706500      0.717500   \n",
       "std       0.339617        8.425307      3.064204   106.685385      2.078647   \n",
       "min       0.000000        1.000000      1.000000    -1.000000      0.000000   \n",
       "25%       0.000000        8.000000      1.000000    -1.000000      0.000000   \n",
       "50%       0.000000       16.000000      2.000000    -1.000000      0.000000   \n",
       "75%       0.000000       22.000000      3.000000    -1.000000      0.000000   \n",
       "max       1.000000       31.000000     43.000000   854.000000     58.000000   \n",
       "\n",
       "       CarInsurance  \n",
       "count   4000.000000  \n",
       "mean       0.401000  \n",
       "std        0.490162  \n",
       "min        0.000000  \n",
       "25%        0.000000  \n",
       "50%        0.000000  \n",
       "75%        1.000000  \n",
       "max        1.000000  "
      ]
     },
     "execution_count": 7,
     "metadata": {},
     "output_type": "execute_result"
    }
   ],
   "source": [
    "data.describe()"
   ]
  },
  {
   "cell_type": "code",
   "execution_count": 18,
   "metadata": {},
   "outputs": [
    {
     "data": {
      "text/plain": [
       "<matplotlib.axes._subplots.AxesSubplot at 0xe8df252cc0>"
      ]
     },
     "execution_count": 18,
     "metadata": {},
     "output_type": "execute_result"
    },
    {
     "data": {
      "image/png": "[encoded data removed]",
      "text/plain": [
       "<Figure size 432x288 with 1 Axes>"
      ]
     },
     "metadata": {},
     "output_type": "display_data"
    }
   ],
   "source": [
    "data['CarInsurance'].value_counts().plot.bar()"
   ]
  },
  {
   "cell_type": "code",
   "execution_count": 9,
   "metadata": {},
   "outputs": [
    {
     "data": {
      "text/html": [
       "<div>\n",
       "<style scoped>\n",
       "    .dataframe tbody tr th:only-of-type {\n",
       "        vertical-align: middle;\n",
       "    }\n",
       "\n",
       "    .dataframe tbody tr th {\n",
       "        vertical-align: top;\n",
       "    }\n",
       "\n",
       "    .dataframe thead th {\n",
       "        text-align: right;\n",
       "    }\n",
       "</style>\n",
       "<table border=\"1\" class=\"dataframe\">\n",
       "  <thead>\n",
       "    <tr style=\"text-align: right;\">\n",
       "      <th></th>\n",
       "      <th>Id</th>\n",
       "      <th>Age</th>\n",
       "      <th>Default</th>\n",
       "      <th>Balance</th>\n",
       "      <th>HHInsurance</th>\n",
       "      <th>CarLoan</th>\n",
       "      <th>LastContactDay</th>\n",
       "      <th>NoOfContacts</th>\n",
       "      <th>DaysPassed</th>\n",
       "      <th>PrevAttempts</th>\n",
       "      <th>CarInsurance</th>\n",
       "    </tr>\n",
       "  </thead>\n",
       "  <tbody>\n",
       "    <tr>\n",
       "      <th>Id</th>\n",
       "      <td>1.000000</td>\n",
       "      <td>0.000999</td>\n",
       "      <td>0.003334</td>\n",
       "      <td>-0.006639</td>\n",
       "      <td>0.004419</td>\n",
       "      <td>-0.003026</td>\n",
       "      <td>-0.017358</td>\n",
       "      <td>0.008898</td>\n",
       "      <td>0.014355</td>\n",
       "      <td>0.012662</td>\n",
       "      <td>-0.017864</td>\n",
       "    </tr>\n",
       "    <tr>\n",
       "      <th>Age</th>\n",
       "      <td>0.000999</td>\n",
       "      <td>1.000000</td>\n",
       "      <td>0.003720</td>\n",
       "      <td>0.094330</td>\n",
       "      <td>-0.183861</td>\n",
       "      <td>-0.012383</td>\n",
       "      <td>0.013762</td>\n",
       "      <td>0.028561</td>\n",
       "      <td>-0.016685</td>\n",
       "      <td>-0.002503</td>\n",
       "      <td>0.039158</td>\n",
       "    </tr>\n",
       "    <tr>\n",
       "      <th>Default</th>\n",
       "      <td>0.003334</td>\n",
       "      <td>0.003720</td>\n",
       "      <td>1.000000</td>\n",
       "      <td>-0.054045</td>\n",
       "      <td>-0.014974</td>\n",
       "      <td>0.124936</td>\n",
       "      <td>0.027350</td>\n",
       "      <td>0.029884</td>\n",
       "      <td>-0.033388</td>\n",
       "      <td>-0.031812</td>\n",
       "      <td>-0.039506</td>\n",
       "    </tr>\n",
       "    <tr>\n",
       "      <th>Balance</th>\n",
       "      <td>-0.006639</td>\n",
       "      <td>0.094330</td>\n",
       "      <td>-0.054045</td>\n",
       "      <td>1.000000</td>\n",
       "      <td>-0.072401</td>\n",
       "      <td>-0.081684</td>\n",
       "      <td>0.015519</td>\n",
       "      <td>-0.005201</td>\n",
       "      <td>-0.002107</td>\n",
       "      <td>0.001323</td>\n",
       "      <td>0.041561</td>\n",
       "    </tr>\n",
       "    <tr>\n",
       "      <th>HHInsurance</th>\n",
       "      <td>0.004419</td>\n",
       "      <td>-0.183861</td>\n",
       "      <td>-0.014974</td>\n",
       "      <td>-0.072401</td>\n",
       "      <td>1.000000</td>\n",
       "      <td>0.088145</td>\n",
       "      <td>-0.024075</td>\n",
       "      <td>-0.005858</td>\n",
       "      <td>0.081246</td>\n",
       "      <td>0.026900</td>\n",
       "      <td>-0.203419</td>\n",
       "    </tr>\n",
       "    <tr>\n",
       "      <th>CarLoan</th>\n",
       "      <td>-0.003026</td>\n",
       "      <td>-0.012383</td>\n",
       "      <td>0.124936</td>\n",
       "      <td>-0.081684</td>\n",
       "      <td>0.088145</td>\n",
       "      <td>1.000000</td>\n",
       "      <td>0.011299</td>\n",
       "      <td>0.020652</td>\n",
       "      <td>-0.041678</td>\n",
       "      <td>-0.020796</td>\n",
       "      <td>-0.092131</td>\n",
       "    </tr>\n",
       "    <tr>\n",
       "      <th>LastContactDay</th>\n",
       "      <td>-0.017358</td>\n",
       "      <td>0.013762</td>\n",
       "      <td>0.027350</td>\n",
       "      <td>0.015519</td>\n",
       "      <td>-0.024075</td>\n",
       "      <td>0.011299</td>\n",
       "      <td>1.000000</td>\n",
       "      <td>0.144303</td>\n",
       "      <td>-0.073521</td>\n",
       "      <td>-0.072977</td>\n",
       "      <td>-0.061271</td>\n",
       "    </tr>\n",
       "    <tr>\n",
       "      <th>NoOfContacts</th>\n",
       "      <td>0.008898</td>\n",
       "      <td>0.028561</td>\n",
       "      <td>0.029884</td>\n",
       "      <td>-0.005201</td>\n",
       "      <td>-0.005858</td>\n",
       "      <td>0.020652</td>\n",
       "      <td>0.144303</td>\n",
       "      <td>1.000000</td>\n",
       "      <td>-0.100634</td>\n",
       "      <td>-0.056527</td>\n",
       "      <td>-0.114884</td>\n",
       "    </tr>\n",
       "    <tr>\n",
       "      <th>DaysPassed</th>\n",
       "      <td>0.014355</td>\n",
       "      <td>-0.016685</td>\n",
       "      <td>-0.033388</td>\n",
       "      <td>-0.002107</td>\n",
       "      <td>0.081246</td>\n",
       "      <td>-0.041678</td>\n",
       "      <td>-0.073521</td>\n",
       "      <td>-0.100634</td>\n",
       "      <td>1.000000</td>\n",
       "      <td>0.496507</td>\n",
       "      <td>0.138943</td>\n",
       "    </tr>\n",
       "    <tr>\n",
       "      <th>PrevAttempts</th>\n",
       "      <td>0.012662</td>\n",
       "      <td>-0.002503</td>\n",
       "      <td>-0.031812</td>\n",
       "      <td>0.001323</td>\n",
       "      <td>0.026900</td>\n",
       "      <td>-0.020796</td>\n",
       "      <td>-0.072977</td>\n",
       "      <td>-0.056527</td>\n",
       "      <td>0.496507</td>\n",
       "      <td>1.000000</td>\n",
       "      <td>0.148763</td>\n",
       "    </tr>\n",
       "    <tr>\n",
       "      <th>CarInsurance</th>\n",
       "      <td>-0.017864</td>\n",
       "      <td>0.039158</td>\n",
       "      <td>-0.039506</td>\n",
       "      <td>0.041561</td>\n",
       "      <td>-0.203419</td>\n",
       "      <td>-0.092131</td>\n",
       "      <td>-0.061271</td>\n",
       "      <td>-0.114884</td>\n",
       "      <td>0.138943</td>\n",
       "      <td>0.148763</td>\n",
       "      <td>1.000000</td>\n",
       "    </tr>\n",
       "  </tbody>\n",
       "</table>\n",
       "</div>"
      ],
      "text/plain": [
       "                      Id       Age   Default   Balance  HHInsurance   CarLoan  \\\n",
       "Id              1.000000  0.000999  0.003334 -0.006639     0.004419 -0.003026   \n",
       "Age             0.000999  1.000000  0.003720  0.094330    -0.183861 -0.012383   \n",
       "Default         0.003334  0.003720  1.000000 -0.054045    -0.014974  0.124936   \n",
       "Balance        -0.006639  0.094330 -0.054045  1.000000    -0.072401 -0.081684   \n",
       "HHInsurance     0.004419 -0.183861 -0.014974 -0.072401     1.000000  0.088145   \n",
       "CarLoan        -0.003026 -0.012383  0.124936 -0.081684     0.088145  1.000000   \n",
       "LastContactDay -0.017358  0.013762  0.027350  0.015519    -0.024075  0.011299   \n",
       "NoOfContacts    0.008898  0.028561  0.029884 -0.005201    -0.005858  0.020652   \n",
       "DaysPassed      0.014355 -0.016685 -0.033388 -0.002107     0.081246 -0.041678   \n",
       "PrevAttempts    0.012662 -0.002503 -0.031812  0.001323     0.026900 -0.020796   \n",
       "CarInsurance   -0.017864  0.039158 -0.039506  0.041561    -0.203419 -0.092131   \n",
       "\n",
       "                LastContactDay  NoOfContacts  DaysPassed  PrevAttempts  \\\n",
       "Id                   -0.017358      0.008898    0.014355      0.012662   \n",
       "Age                   0.013762      0.028561   -0.016685     -0.002503   \n",
       "Default               0.027350      0.029884   -0.033388     -0.031812   \n",
       "Balance               0.015519     -0.005201   -0.002107      0.001323   \n",
       "HHInsurance          -0.024075     -0.005858    0.081246      0.026900   \n",
       "CarLoan               0.011299      0.020652   -0.041678     -0.020796   \n",
       "LastContactDay        1.000000      0.144303   -0.073521     -0.072977   \n",
       "NoOfContacts          0.144303      1.000000   -0.100634     -0.056527   \n",
       "DaysPassed           -0.073521     -0.100634    1.000000      0.496507   \n",
       "PrevAttempts         -0.072977     -0.056527    0.496507      1.000000   \n",
       "CarInsurance         -0.061271     -0.114884    0.138943      0.148763   \n",
       "\n",
       "                CarInsurance  \n",
       "Id                 -0.017864  \n",
       "Age                 0.039158  \n",
       "Default            -0.039506  \n",
       "Balance             0.041561  \n",
       "HHInsurance        -0.203419  \n",
       "CarLoan            -0.092131  \n",
       "LastContactDay     -0.061271  \n",
       "NoOfContacts       -0.114884  \n",
       "DaysPassed          0.138943  \n",
       "PrevAttempts        0.148763  \n",
       "CarInsurance        1.000000  "
      ]
     },
     "execution_count": 9,
     "metadata": {},
     "output_type": "execute_result"
    }
   ],
   "source": [
    "data.corr(method='pearson')"
   ]
  },
  {
   "cell_type": "code",
   "execution_count": 8,
   "metadata": {},
   "outputs": [
    {
     "data": {
      "text/plain": [
       "Id                0.000000\n",
       "Age               0.763293\n",
       "Default           8.125869\n",
       "Balance           9.877895\n",
       "HHInsurance       0.029014\n",
       "CarLoan           2.162338\n",
       "LastContactDay    0.091053\n",
       "NoOfContacts      5.241314\n",
       "DaysPassed        2.536872\n",
       "PrevAttempts      8.932735\n",
       "CarInsurance      0.404150\n",
       "dtype: float64"
      ]
     },
     "execution_count": 8,
     "metadata": {},
     "output_type": "execute_result"
    }
   ],
   "source": [
    "data.skew()"
   ]
  },
  {
   "cell_type": "code",
   "execution_count": 33,
   "metadata": {},
   "outputs": [
    {
     "data": {
      "image/png": "[encoded data removed]",
      "text/plain": [
       "<Figure size 864x864 with 12 Axes>"
      ]
     },
     "metadata": {},
     "output_type": "display_data"
    }
   ],
   "source": [
    "_ = data.hist(figsize=(12,12), bins=20)"
   ]
  },
  {
   "cell_type": "markdown",
   "metadata": {},
   "source": [
    "### Look for outliers"
   ]
  },
  {
   "cell_type": "code",
   "execution_count": 40,
   "metadata": {},
   "outputs": [],
   "source": [
    "sns.set(rc={'figure.figsize':(8,2)})\n",
    "sns.set(style='darkgrid')"
   ]
  },
  {
   "cell_type": "code",
   "execution_count": 41,
   "metadata": {},
   "outputs": [
    {
     "data": {
      "image/png": "[encoded data removed]",
      "text/plain": [
       "<Figure size 576x144 with 1 Axes>"
      ]
     },
     "metadata": {},
     "output_type": "display_data"
    }
   ],
   "source": [
    "_ = sns.boxplot(data['Age'])"
   ]
  },
  {
   "cell_type": "code",
   "execution_count": 42,
   "metadata": {},
   "outputs": [
    {
     "data": {
      "text/plain": [
       "<matplotlib.axes._subplots.AxesSubplot at 0xa6f00bedd8>"
      ]
     },
     "execution_count": 42,
     "metadata": {},
     "output_type": "execute_result"
    },
    {
     "data": {
      "image/png": "[encoded data removed]",
      "text/plain": [
       "<Figure size 576x144 with 1 Axes>"
      ]
     },
     "metadata": {},
     "output_type": "display_data"
    }
   ],
   "source": [
    "sns.boxplot(data['Balance'])"
   ]
  },
  {
   "cell_type": "code",
   "execution_count": 45,
   "metadata": {},
   "outputs": [
    {
     "data": {
      "text/plain": [
       "<matplotlib.axes._subplots.AxesSubplot at 0xa6f00635c0>"
      ]
     },
     "execution_count": 45,
     "metadata": {},
     "output_type": "execute_result"
    },
    {
     "data": {
      "image/png": "[encoded data removed]",
      "text/plain": [
       "<Figure size 576x144 with 1 Axes>"
      ]
     },
     "metadata": {},
     "output_type": "display_data"
    }
   ],
   "source": [
    "sns.boxplot(data['NoOfContacts'])"
   ]
  },
  {
   "cell_type": "code",
   "execution_count": 54,
   "metadata": {},
   "outputs": [
    {
     "data": {
      "image/png": "[encoded data removed]",
      "text/plain": [
       "<Figure size 864x864 with 2 Axes>"
      ]
     },
     "metadata": {},
     "output_type": "display_data"
    }
   ],
   "source": [
    "data_corr = data[['Age','Default','Balance','HHInsurance','CarLoan','LastContactDay','NoOfContacts','DaysPassed',\n",
    "                  'PrevAttempts','CarInsurance']].corr()\n",
    "plt.subplots(figsize=(12,12))\n",
    "ax = sns.heatmap(data_corr, annot=True, fmt='.2f', square=True, linewidths=.5, cmap='inferno')"
   ]
  }
 ],
 "metadata": {
  "kernelspec": {
   "display_name": "Python 3",
   "language": "python",
   "name": "python3"
  },
  "language_info": {
   "codemirror_mode": {
    "name": "ipython",
    "version": 3
   },
   "file_extension": ".py",
   "mimetype": "text/x-python",
   "name": "python",
   "nbconvert_exporter": "python",
   "pygments_lexer": "ipython3",
   "version": "3.6.5"
  }
 },
 "nbformat": 4,
 "nbformat_minor": 2
}
